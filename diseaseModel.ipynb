{
  "nbformat": 4,
  "nbformat_minor": 0,
  "metadata": {
    "colab": {
      "provenance": []
    },
    "kernelspec": {
      "name": "python3",
      "display_name": "Python 3"
    },
    "language_info": {
      "name": "python"
    },
    "accelerator": "GPU",
    "gpuClass": "standard"
  },
  "cells": [
    {
      "cell_type": "code",
      "execution_count": 52,
      "metadata": {
        "id": "cym6CCF-7Slx"
      },
      "outputs": [],
      "source": [
        "import tensorflow as tf\n",
        "from tensorflow import keras\n",
        "import numpy as np\n",
        "import pandas as pd\n",
        "import matplotlib.pyplot as plt\n",
        "import sklearn\n",
        "from sklearn.preprocessing import LabelEncoder, OneHotEncoder"
      ]
    },
    {
      "cell_type": "code",
      "source": [
        "from tensorflow.keras.models import Sequential\n",
        "from tensorflow.keras.layers import Input, Dense, Dropout"
      ],
      "metadata": {
        "id": "crV3MGe2n9Z8"
      },
      "execution_count": 53,
      "outputs": []
    },
    {
      "cell_type": "code",
      "source": [
        "data = pd.read_csv(\"Training.csv\", sep=\",\")\n",
        "data2 = pd.read_csv(\"Testing.csv\", sep=',')"
      ],
      "metadata": {
        "id": "DZSlM1Cz8C21"
      },
      "execution_count": 54,
      "outputs": []
    },
    {
      "cell_type": "code",
      "source": [
        "df = data.to_numpy()\n",
        "df2 = data2.to_numpy()"
      ],
      "metadata": {
        "id": "LfYtttm7YZyX"
      },
      "execution_count": 55,
      "outputs": []
    },
    {
      "cell_type": "code",
      "source": [
        "print(df.shape)\n",
        "print(df2.shape)\n",
        "\n",
        "x_train = df[0:4920,0:132]\n",
        "y_train = df[0:4920,132]\n",
        "\n",
        "print(x_train)\n",
        "print(y_train)\n",
        "\n",
        "x_test = df2[0:42,0:132]\n",
        "y_test = df2[0:42,132]\n",
        "print(x_test)\n",
        "print(y_test)"
      ],
      "metadata": {
        "id": "DVgAvwX3YgZ9",
        "colab": {
          "base_uri": "https://localhost:8080/"
        },
        "outputId": "66926544-3359-4878-861f-456f58b56878"
      }, 
      "execution_count": 56,
      "outputs": [
        {
          "output_type": "stream",
          "name": "stdout",
          "text": [
            "(4920, 134)\n",
            "(42, 134)\n",
            "[[1 1 1 ... 0 0 0]\n",
            " [0 1 1 ... 0 0 0]\n",
            " [1 0 1 ... 0 0 0]\n",
            " ...\n",
            " [0 0 0 ... 0 0 0]\n",
            " [0 1 0 ... 0 0 0]\n",
            " [0 1 0 ... 1 1 1]]\n",
            "['Fungal infection' 'Fungal infection' 'Fungal infection' ...\n",
            " 'Urinary tract infection' 'Psoriasis' 'Impetigo']\n",
            "[[1 1 1 ... 0 0 0]\n",
            " [0 0 0 ... 0 0 0]\n",
            " [0 0 0 ... 0 0 0]\n",
            " ...\n",
            " [0 1 0 ... 0 0 0]\n",
            " [0 1 0 ... 1 1 1]\n",
            " [1 1 0 ... 0 1 0]]\n",
            "['Fungal infection' 'Allergy' 'GERD' 'Chronic cholestasis' 'Drug Reaction'\n",
            " 'Peptic ulcer diseae' 'AIDS' 'Diabetes ' 'Gastroenteritis'\n",
            " 'Bronchial Asthma' 'Hypertension ' 'Migraine' 'Cervical spondylosis'\n",
            " 'Paralysis (brain hemorrhage)' 'Jaundice' 'Malaria' 'Chicken pox'\n",
            " 'Dengue' 'Typhoid' 'hepatitis A' 'Hepatitis B' 'Hepatitis C'\n",
            " 'Hepatitis D' 'Hepatitis E' 'Alcoholic hepatitis' 'Tuberculosis'\n",
            " 'Common Cold' 'Pneumonia' 'Dimorphic hemmorhoids(piles)' 'Heart attack'\n",
            " 'Varicose veins' 'Hypothyroidism' 'Hyperthyroidism' 'Hypoglycemia'\n",
            " 'Osteoarthristis' 'Arthritis' '(vertigo) Paroymsal  Positional Vertigo'\n",
            " 'Acne' 'Urinary tract infection' 'Psoriasis' 'Impetigo'\n",
            " 'Fungal infection']\n"
          ]
        }
      ]
    },
    {
      "cell_type": "code",
      "source": [
        "x_train = x_train.astype('float32')\n",
        "x_test = x_test.astype('float32')"
      ],
      "metadata": {
        "id": "fbaPgQAxHXpX"
      },
      "execution_count": 57,
      "outputs": []
    },
    {
      "cell_type": "code",
      "source": [
        "train_labels = []\n",
        "for val in y_train:\n",
        "  count = 0\n",
        "  for val2 in train_labels:\n",
        "    if (val == val2):\n",
        "      count += 1\n",
        "  if count == 0:\n",
        "    train_labels.append(val)\n",
        "\n",
        "print(len(train_labels))"
      ],
      "metadata": {
        "colab": {
          "base_uri": "https://localhost:8080/"
        },
        "id": "sb9y2YT2V9vg",
        "outputId": "3bd620d3-d906-4f41-e714-184ac775c200"
      },
      "execution_count": 58,
      "outputs": [
        {
          "output_type": "stream",
          "name": "stdout",
          "text": [
            "41\n"
          ]
        }
      ]
    },
    {
      "cell_type": "code",
      "source": [
        "for val1 in range(len(y_train)):\n",
        "  for val2 in range(len(train_labels)):\n",
        "    if (y_train[val1] == train_labels[val2]):\n",
        "      df[val1][133] = val2\n",
        "#print(df)\n",
        "train_encode = df[0:4920,133]\n",
        "print(train_encode)\n",
        "\n",
        "for val1 in range(len(y_test)):\n",
        "  for val2 in range(len(train_labels)):\n",
        "    if (y_test[val1] == train_labels[val2]):\n",
        "      df2[val1][133] = val2\n",
        "#print(df)\n",
        "train_encode2 = df2[0:4920,133]\n",
        "print(train_encode2)"
      ],
      "metadata": {
        "colab": {
          "base_uri": "https://localhost:8080/"
        },
        "id": "d6Pw96DmaILh",
        "outputId": "0c403a85-05fe-4ef0-fe4d-6a7404dc928b"
      },
      "execution_count": 59,
      "outputs": [
        {
          "output_type": "stream",
          "name": "stdout",
          "text": [
            "[0 0 0 ... 38 39 40]\n",
            "[0 1 2 3 4 5 6 7 8 9 10 11 12 13 14 15 16 17 18 19 20 21 22 23 24 25 26 27\n",
            " 28 29 30 31 32 33 34 35 36 37 38 39 40 0]\n"
          ]
        }
      ]
    },
    {
      "cell_type": "code",
      "source": [
        "print(x_train.shape)\n",
        "print(y_train.shape)\n",
        "print(x_test.shape)\n",
        "print(y_test.shape)"
      ],
      "metadata": {
        "colab": {
          "base_uri": "https://localhost:8080/"
        },
        "id": "RR4ZRrzKnPMM",
        "outputId": "a069b1a1-65d2-4b54-d7e1-8c917e1bb39e"
      },
      "execution_count": 60,
      "outputs": [
        {
          "output_type": "stream",
          "name": "stdout",
          "text": [
            "(4920, 132)\n",
            "(4920,)\n",
            "(42, 132)\n",
            "(42,)\n"
          ]
        }
      ]
    },
    {
      "cell_type": "code",
      "source": [
        "model = Sequential()\n",
        "model.add(Dense(4920, input_dim=132, activation='relu'))\n",
        "model.add(Dense(42, activation=\"softmax\"))"
      ],
      "metadata": {
        "id": "XSur99tEnzwl"
      },
      "execution_count": 61,
      "outputs": []
    },
    {
      "cell_type": "code",
      "source": [
        "model.compile(optimizer=\"adam\", loss=\"sparse_categorical_crossentropy\", metrics=[\"accuracy\"])"
      ],
      "metadata": {
        "id": "FLa_s6zGoX_b"
      },
      "execution_count": 62,
      "outputs": []
    },
    {
      "cell_type": "code",
      "source": [
        "train_encode = train_encode.astype('float32')\n",
        "train_encode2 = train_encode2.astype('float32')"
      ],
      "metadata": {
        "id": "pCzcGtGkdirX"
      },
      "execution_count": 63,
      "outputs": []
    },
    {
      "cell_type": "code",
      "source": [
        "model.fit(x_train, train_encode, epochs=5)"
      ],
      "metadata": {
        "colab": {
          "base_uri": "https://localhost:8080/"
        },
        "id": "FXkOOEhcodii",
        "outputId": "2d660752-4dde-47c6-bf54-f0af92069195"
      },
      "execution_count": 64,
      "outputs": [
        {
          "output_type": "stream",
          "name": "stdout",
          "text": [
            "Epoch 1/5\n",
            "154/154 [==============================] - 3s 13ms/step - loss: 0.3135 - accuracy: 0.9705\n",
            "Epoch 2/5\n",
            "154/154 [==============================] - 2s 16ms/step - loss: 0.0017 - accuracy: 1.0000\n",
            "Epoch 3/5\n",
            "154/154 [==============================] - 3s 19ms/step - loss: 7.2565e-04 - accuracy: 1.0000\n",
            "Epoch 4/5\n",
            "154/154 [==============================] - 2s 13ms/step - loss: 3.8794e-04 - accuracy: 1.0000\n",
            "Epoch 5/5\n",
            "154/154 [==============================] - 2s 14ms/step - loss: 2.3133e-04 - accuracy: 1.0000\n"
          ]
        },
        {
          "output_type": "execute_result",
          "data": {
            "text/plain": [
              "<keras.callbacks.History at 0x7f7885ae4d30>"
            ]
          },
          "metadata": {},
          "execution_count": 64
        }
      ]
    },
    {
      "cell_type": "code",
      "source": [
        "test_loss, test_acc = model.evaluate(x_test, train_encode2)"
      ],
      "metadata": {
        "colab": {
          "base_uri": "https://localhost:8080/"
        },
        "id": "AibT-MZNegXG",
        "outputId": "3a2ed950-99e4-4109-ad34-bbca16fb2fa7"
      },
      "execution_count": 65,
      "outputs": [
        {
          "output_type": "stream",
          "name": "stdout",
          "text": [
            "2/2 [==============================] - 0s 11ms/step - loss: 0.0476 - accuracy: 0.9762\n"
          ]
        }
      ]
    },
    {
      "cell_type": "code",
      "source": [
        "final = int(test_acc*100)\n",
        "print(str(final) + '%')"
      ],
      "metadata": {
        "colab": {
          "base_uri": "https://localhost:8080/"
        },
        "id": "XIInzB2qjwF3",
        "outputId": "ee8ed1bc-78b2-4226-9474-b51a1456203f"
      },
      "execution_count": 73,
      "outputs": [
        {
          "output_type": "stream",
          "name": "stdout",
          "text": [
            "97%\n"
          ]
        }
      ]
    }
  ]
}
